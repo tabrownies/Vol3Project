{
 "cells": [
  {
   "cell_type": "code",
   "execution_count": 2,
   "id": "15e092f7",
   "metadata": {},
   "outputs": [],
   "source": [
    "from sklearn.model_selection import train_test_split\n",
    "from dynamax.hidden_markov_model import CategoricalHMM\n",
    "import numpy as np\n",
    "import pandas as pd\n",
    "import jax.numpy as jnp\n",
    "import jax.random as jr\n",
    "from jax import vmap\n",
    "from matplotlib import pyplot as plt"
   ]
  },
  {
   "cell_type": "code",
   "execution_count": null,
   "id": "146e9cea",
   "metadata": {},
   "outputs": [],
   "source": [
    "folder_path = '/content/Cleaned Data/'\n",
    "Beethoven = np.load(folder_path+'Beethoven.npy', allow_pickle = True)\n",
    "Bach = np.load(folder_path+'Bach.npy', allow_pickle = True)\n",
    "Chopin = np.load(folder_path+'Chopin.npy', allow_pickle = True)\n",
    "\n",
    "comps_list = [Beethoven,Bach,Chopin]"
   ]
  },
  {
   "cell_type": "code",
   "execution_count": null,
   "id": "b37d3802",
   "metadata": {},
   "outputs": [],
   "source": [
    "channel_names = ['note_name', 'note_num','start_time', 'duration', 'normed_duration', 'velocity', 'tempo']\n",
    "bin_list = [i*15 for i in range(65)]\n",
    "composers = [[],[],[]]\n",
    "for i,composer in enumerate(comps_list):\n",
    "    for song in composer:\n",
    "        df = pd.DataFrame(song,columns=channel_names)\n",
    "        df.drop(['duration','note_name','start_time','velocity','tempo'],axis=1,inplace=True)\n",
    "        composers[i].append(df.to_numpy())\n",
    "\n",
    "Beethoven = composers[0]\n",
    "Bach = composers[1]\n",
    "Chopin = composers[2]\n",
    "comps_list = [Beethoven,Bach,Chopin]"
   ]
  },
  {
   "cell_type": "code",
   "execution_count": null,
   "id": "1f9d3be2",
   "metadata": {},
   "outputs": [],
   "source": [
    "# Label the data\n",
    "label_dict = {0:\"Bach\", 1:\"Beethoven\", 2:\"Chopin\"}\n",
    "\n",
    "Beethoven_lbl = np.vstack((Beethoven,1*np.ones(len(Beethoven))))\n",
    "Bach_lbl = np.vstack((Bach,2*np.ones(len(Bach))))\n",
    "Chopin_lbl = np.vstack((Chopin,3*np.ones(len(Chopin))))\n"
   ]
  },
  {
   "cell_type": "code",
   "execution_count": null,
   "id": "3d22464f",
   "metadata": {},
   "outputs": [],
   "source": [
    "def print_params(params):\n",
    "    jnp.set_printoptions(formatter={'float': lambda x: \"{0:0.3f}\".format(x)})\n",
    "    print(\"initial probs:\")\n",
    "    print(params.initial.probs)\n",
    "    print(\"transition matrix:\")\n",
    "    print(params.transitions.transition_matrix)\n",
    "    print(\"emission probs:\")\n",
    "    print(params.emissions.probs) "
   ]
  },
  {
   "cell_type": "code",
   "execution_count": null,
   "id": "69a60498",
   "metadata": {},
   "outputs": [],
   "source": [
    "# Concatenate into one big data array and train-test-split\n",
    "data = np.concatenate((Beethoven_lbl, Bach_lbl, Chopin_lbl), axis=1)\n",
    "\n",
    "X, Y = data[0, :], data[1, :]\n",
    "X_train, X_test, Y_train, Y_test = train_test_split(X,Y)"
   ]
  },
  {
   "cell_type": "code",
   "execution_count": null,
   "id": "bc4c9e98",
   "metadata": {},
   "outputs": [],
   "source": [
    "# CategoricalHMM fitting\n",
    "params_list = []\n",
    "num_unique_notes = 96\n",
    "num_unique_durations = len(np.unique(X[:,-1]))\n",
    "num_states = 3\n",
    "num_emmisions = 2\n",
    "num_classes = num_unique_notes*num_unique_durations\n",
    "\n",
    "for i,p in enumerate(X_train):\n",
    "    if (np.isnan(p).any()) or (np.isinf(p).any()):\n",
    "        print(\"NaN or Inf\")\n",
    "        print(np.isnan(p).any())\n",
    "        print(np.isinf(p).any())\n",
    "        print(\" at i =\", i)\n",
    "        continue\n",
    "    hmm = CategoricalHMM(num_states,num_emmisions,num_classes)\n",
    "    params, props = hmm.initialize(method=\"prior\")\n",
    "    params, log_probs = hmm.fit_em(params,props,p,num_iters=10)\n",
    "    params_list.append(params)"
   ]
  },
  {
   "cell_type": "code",
   "execution_count": null,
   "id": "bde39fe9",
   "metadata": {},
   "outputs": [],
   "source": [
    "t_matrix_list = []\n",
    "for params in params_list:\n",
    "    t_matrix_list.append(params.transitions.transition_matrix)"
   ]
  },
  {
   "cell_type": "code",
   "execution_count": 3,
   "id": "b9394b7f",
   "metadata": {},
   "outputs": [],
   "source": [
    "from sklearn.neighbors import NearestCentroid\n",
    "from sklearn.cluster import KMeans"
   ]
  },
  {
   "cell_type": "code",
   "execution_count": null,
   "id": "0f2fe646",
   "metadata": {},
   "outputs": [],
   "source": [
    "y = Y_train\n",
    "X_for_training = []\n",
    "for i, matrix in enumerate(t_matrix_list):\n",
    "    X_for_training.append(np.ravel(matrix))\n",
    "\n",
    "y_ints = [int(label) for label in y]"
   ]
  },
  {
   "cell_type": "code",
   "execution_count": null,
   "id": "2885bf31",
   "metadata": {},
   "outputs": [],
   "source": [
    "NC = NearestCentroid()\n",
    "NC.fit(np.array(X_for_training), y_ints)\n",
    "KM = KMeans(3)\n",
    "KM.fit(np.array(X_for_training), y_ints)"
   ]
  },
  {
   "cell_type": "markdown",
   "id": "ef920e72",
   "metadata": {},
   "source": [
    "Now Let's work with the test set"
   ]
  },
  {
   "cell_type": "code",
   "execution_count": null,
   "id": "a5818441",
   "metadata": {},
   "outputs": [],
   "source": [
    "# CategoricalHMM fitting\n",
    "params_list_test = []\n",
    "num_unique_notes = 96\n",
    "num_unique_durations = 67\n",
    "num_states = 3\n",
    "num_emmisions = 2\n",
    "num_classes = num_unique_notes*num_unique_durations\n",
    "\n",
    "for i,p in enumerate(X_test):\n",
    "    if (np.isnan(p).any()) or (np.isinf(p).any()):\n",
    "        print(\"NaN or Inf\")\n",
    "        print(np.isnan(p).any())\n",
    "        print(np.isinf(p).any())\n",
    "        print(\" at i =\", i)\n",
    "        continue\n",
    "    hmm = CategoricalHMM(num_states,num_emmisions,num_classes)\n",
    "    params, props = hmm.initialize(method=\"prior\")\n",
    "    params, log_probs = hmm.fit_em(params,props,p,num_iters=10)\n",
    "    params_list_test.append(params)"
   ]
  },
  {
   "cell_type": "code",
   "execution_count": null,
   "id": "9ee620fc",
   "metadata": {},
   "outputs": [],
   "source": [
    "t_matrix_list_test = []\n",
    "for params in params_list_test:\n",
    "    t_matrix_list_test.append(params.transitions.transition_matrix)"
   ]
  },
  {
   "cell_type": "code",
   "execution_count": null,
   "id": "4c35be4d",
   "metadata": {},
   "outputs": [],
   "source": [
    "y = Y_test\n",
    "X_for_training = []\n",
    "for i, matrix in enumerate(t_matrix_list_test):\n",
    "    X_for_training.append(np.ravel(matrix))\n",
    "\n",
    "y_ints = [int(label) for label in y]"
   ]
  },
  {
   "cell_type": "code",
   "execution_count": null,
   "id": "15e6913d",
   "metadata": {},
   "outputs": [],
   "source": [
    "NC.score(np.array(X_for_test), y_ints_test)"
   ]
  },
  {
   "cell_type": "code",
   "execution_count": null,
   "id": "0c89aba8",
   "metadata": {},
   "outputs": [],
   "source": [
    "KM.score(np.array(X_for_test), y_ints_test)"
   ]
  }
 ],
 "metadata": {
  "kernelspec": {
   "display_name": "Python 3 (ipykernel)",
   "language": "python",
   "name": "python3"
  },
  "language_info": {
   "codemirror_mode": {
    "name": "ipython",
    "version": 3
   },
   "file_extension": ".py",
   "mimetype": "text/x-python",
   "name": "python",
   "nbconvert_exporter": "python",
   "pygments_lexer": "ipython3",
   "version": "3.9.12"
  }
 },
 "nbformat": 4,
 "nbformat_minor": 5
}
