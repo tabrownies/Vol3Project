{
  "cells": [
    {
      "cell_type": "code",
      "source": [
        "#Pip commands if needed\n",
        "#!pip install optax==0.1.4\n",
        "#!pip install dynamax"
      ],
      "metadata": {
        "colab": {
          "base_uri": "https://localhost:8080/"
        },
        "id": "JvXMH8n-ko2u",
        "outputId": "d1d0b510-b903-4f15-b05d-95d73f5758a8"
      },
      "id": "JvXMH8n-ko2u",
      "execution_count": 1,
      "outputs": [
        {
          "output_type": "stream",
          "name": "stdout",
          "text": [
            "Looking in indexes: https://pypi.org/simple, https://us-python.pkg.dev/colab-wheels/public/simple/\n",
            "Requirement already satisfied: optax==0.1.4 in /usr/local/lib/python3.9/dist-packages (0.1.4)\n",
            "Requirement already satisfied: jax>=0.1.55 in /usr/local/lib/python3.9/dist-packages (from optax==0.1.4) (0.4.6)\n",
            "Requirement already satisfied: chex>=0.1.5 in /usr/local/lib/python3.9/dist-packages (from optax==0.1.4) (0.1.6)\n",
            "Requirement already satisfied: numpy>=1.18.0 in /usr/local/lib/python3.9/dist-packages (from optax==0.1.4) (1.22.4)\n",
            "Requirement already satisfied: typing-extensions>=3.10.0 in /usr/local/lib/python3.9/dist-packages (from optax==0.1.4) (4.5.0)\n",
            "Requirement already satisfied: jaxlib>=0.1.37 in /usr/local/lib/python3.9/dist-packages (from optax==0.1.4) (0.4.6+cuda11.cudnn86)\n",
            "Requirement already satisfied: absl-py>=0.7.1 in /usr/local/lib/python3.9/dist-packages (from optax==0.1.4) (1.4.0)\n",
            "Requirement already satisfied: toolz>=0.9.0 in /usr/local/lib/python3.9/dist-packages (from chex>=0.1.5->optax==0.1.4) (0.12.0)\n",
            "Requirement already satisfied: dm-tree>=0.1.5 in /usr/local/lib/python3.9/dist-packages (from chex>=0.1.5->optax==0.1.4) (0.1.8)\n",
            "Requirement already satisfied: scipy>=1.5 in /usr/local/lib/python3.9/dist-packages (from jax>=0.1.55->optax==0.1.4) (1.10.1)\n",
            "Requirement already satisfied: opt-einsum in /usr/local/lib/python3.9/dist-packages (from jax>=0.1.55->optax==0.1.4) (3.3.0)\n",
            "Looking in indexes: https://pypi.org/simple, https://us-python.pkg.dev/colab-wheels/public/simple/\n",
            "Requirement already satisfied: dynamax in /usr/local/lib/python3.9/dist-packages (0.1.0)\n",
            "Requirement already satisfied: fastprogress in /usr/local/lib/python3.9/dist-packages (from dynamax) (1.0.3)\n",
            "Requirement already satisfied: jaxlib in /usr/local/lib/python3.9/dist-packages (from dynamax) (0.4.6+cuda11.cudnn86)\n",
            "Requirement already satisfied: typing-extensions in /usr/local/lib/python3.9/dist-packages (from dynamax) (4.5.0)\n",
            "Requirement already satisfied: optax in /usr/local/lib/python3.9/dist-packages (from dynamax) (0.1.4)\n",
            "Requirement already satisfied: jaxtyping in /usr/local/lib/python3.9/dist-packages (from dynamax) (0.2.14)\n",
            "Requirement already satisfied: tensorflow-probability in /usr/local/lib/python3.9/dist-packages (from dynamax) (0.19.0)\n",
            "Requirement already satisfied: scikit-learn in /usr/local/lib/python3.9/dist-packages (from dynamax) (1.2.2)\n",
            "Requirement already satisfied: jax>=0.3.15 in /usr/local/lib/python3.9/dist-packages (from dynamax) (0.4.6)\n",
            "Requirement already satisfied: numpy>=1.20 in /usr/local/lib/python3.9/dist-packages (from jax>=0.3.15->dynamax) (1.22.4)\n",
            "Requirement already satisfied: opt-einsum in /usr/local/lib/python3.9/dist-packages (from jax>=0.3.15->dynamax) (3.3.0)\n",
            "Requirement already satisfied: scipy>=1.5 in /usr/local/lib/python3.9/dist-packages (from jax>=0.3.15->dynamax) (1.10.1)\n",
            "Requirement already satisfied: typeguard>=2.13.3 in /usr/local/lib/python3.9/dist-packages (from jaxtyping->dynamax) (3.0.1)\n",
            "Requirement already satisfied: absl-py>=0.7.1 in /usr/local/lib/python3.9/dist-packages (from optax->dynamax) (1.4.0)\n",
            "Requirement already satisfied: chex>=0.1.5 in /usr/local/lib/python3.9/dist-packages (from optax->dynamax) (0.1.6)\n",
            "Requirement already satisfied: joblib>=1.1.1 in /usr/local/lib/python3.9/dist-packages (from scikit-learn->dynamax) (1.1.1)\n",
            "Requirement already satisfied: threadpoolctl>=2.0.0 in /usr/local/lib/python3.9/dist-packages (from scikit-learn->dynamax) (3.1.0)\n",
            "Requirement already satisfied: six>=1.10.0 in /usr/local/lib/python3.9/dist-packages (from tensorflow-probability->dynamax) (1.15.0)\n",
            "Requirement already satisfied: dm-tree in /usr/local/lib/python3.9/dist-packages (from tensorflow-probability->dynamax) (0.1.8)\n",
            "Requirement already satisfied: cloudpickle>=1.3 in /usr/local/lib/python3.9/dist-packages (from tensorflow-probability->dynamax) (2.2.1)\n",
            "Requirement already satisfied: gast>=0.3.2 in /usr/local/lib/python3.9/dist-packages (from tensorflow-probability->dynamax) (0.4.0)\n",
            "Requirement already satisfied: decorator in /usr/local/lib/python3.9/dist-packages (from tensorflow-probability->dynamax) (4.4.2)\n",
            "Requirement already satisfied: toolz>=0.9.0 in /usr/local/lib/python3.9/dist-packages (from chex>=0.1.5->optax->dynamax) (0.12.0)\n",
            "Requirement already satisfied: importlib-metadata>=3.6 in /usr/local/lib/python3.9/dist-packages (from typeguard>=2.13.3->jaxtyping->dynamax) (6.0.0)\n",
            "Requirement already satisfied: zipp>=0.5 in /usr/local/lib/python3.9/dist-packages (from importlib-metadata>=3.6->typeguard>=2.13.3->jaxtyping->dynamax) (3.15.0)\n"
          ]
        }
      ]
    },
    {
      "cell_type": "code",
      "execution_count": 2,
      "id": "6b9de280",
      "metadata": {
        "colab": {
          "base_uri": "https://localhost:8080/"
        },
        "id": "6b9de280",
        "outputId": "7a5dac85-4736-4d02-a1e5-c8834e296b6c"
      },
      "outputs": [
        {
          "output_type": "stream",
          "name": "stderr",
          "text": [
            "WARNING:jax._src.xla_bridge:No GPU/TPU found, falling back to CPU. (Set TF_CPP_MIN_LOG_LEVEL=0 and rerun for more info.)\n"
          ]
        }
      ],
      "source": [
        "from sklearn.model_selection import train_test_split\n",
        "from dynamax.hidden_markov_model import CategoricalHMM\n",
        "import numpy as np\n",
        "import pandas as pd\n",
        "import jax.numpy as jnp\n",
        "import jax.random as jr\n",
        "from jax import vmap"
      ]
    },
    {
      "cell_type": "code",
      "source": [
        "#Get data and work with all possible \n",
        "!unzip music_data_cleaned.zip"
      ],
      "metadata": {
        "colab": {
          "base_uri": "https://localhost:8080/"
        },
        "id": "fQGe6X7glIdn",
        "outputId": "c12289fd-2473-471b-950a-23814132e2aa"
      },
      "id": "fQGe6X7glIdn",
      "execution_count": 3,
      "outputs": [
        {
          "output_type": "stream",
          "name": "stdout",
          "text": [
            "Archive:  music_data_cleaned.zip\n",
            "replace Cleaned Data/Taube.npy? [y]es, [n]o, [A]ll, [N]one, [r]ename: no\n",
            "replace Cleaned Data/index/Busoni song index.npy? [y]es, [n]o, [A]ll, [N]one, [r]ename: "
          ]
        }
      ]
    },
    {
      "cell_type": "code",
      "execution_count": 4,
      "id": "f28b212e",
      "metadata": {
        "id": "f28b212e"
      },
      "outputs": [],
      "source": [
        "folder_path = '/content/Cleaned Data/'\n",
        "Beethoven = np.load(folder_path+'Beethoven.npy', allow_pickle = True)\n",
        "Handel = np.load(folder_path+'Haendel.npy', allow_pickle = True)\n",
        "Chopin = np.load(folder_path+'Chopin.npy', allow_pickle = True)\n",
        "\n",
        "comps_list = [Beethoven,Handel,Chopin]"
      ]
    },
    {
      "cell_type": "code",
      "source": [
        "channel_names = ['tick','time','note value','channel','velocity','duration']\n",
        "\n",
        "composers = [[],[],[]]\n",
        "for i,composer in enumerate(comps_list):\n",
        "    for song in composer:\n",
        "        df = pd.DataFrame(song,columns=channel_names)\n",
        "        df.drop(['tick','time','channel','velocity'],axis=1,inplace=True)\n",
        "        df[\"duration\"][df[\"duration\"] < 1e-12] = 0 #filter small note durations\n",
        "        df[\"duration\"][df[\"duration\"] > 2e3] = 2e3 #filter big note durations\n",
        "        df.ffill(inplace=True)\n",
        "        composers[i].append(df.to_numpy())\n",
        "\n",
        "Beethoven = composers[0]\n",
        "Handel = composers[1]\n",
        "Chopin = composers[2]\n",
        "comps_list = [Beethoven,Handel,Chopin]"
      ],
      "metadata": {
        "id": "veIjHoKenKZv"
      },
      "id": "veIjHoKenKZv",
      "execution_count": 5,
      "outputs": []
    },
    {
      "cell_type": "code",
      "execution_count": 6,
      "id": "2782d95f",
      "metadata": {
        "colab": {
          "base_uri": "https://localhost:8080/"
        },
        "id": "2782d95f",
        "outputId": "5e96a352-6f41-4310-a019-134207629d90"
      },
      "outputs": [
        {
          "output_type": "stream",
          "name": "stderr",
          "text": [
            "/usr/local/lib/python3.9/dist-packages/numpy/core/shape_base.py:121: VisibleDeprecationWarning: Creating an ndarray from ragged nested sequences (which is a list-or-tuple of lists-or-tuples-or ndarrays with different lengths or shapes) is deprecated. If you meant to do this, you must specify 'dtype=object' when creating the ndarray.\n",
            "  ary = asanyarray(ary)\n"
          ]
        }
      ],
      "source": [
        "# Label the data\n",
        "label_dict = {0:\"Bach\", 1:\"Beethoven\", 2:\"Handel\", 3:\"Chopin\"}\n",
        "\n",
        "Beethoven_lbl = np.vstack((Beethoven,1*np.ones(len(Beethoven))))\n",
        "Handel_lbl = np.vstack((Handel,2*np.ones(len(Handel))))\n",
        "Chopin_lbl = np.vstack((Chopin,3*np.ones(len(Chopin))))\n"
      ]
    },
    {
      "cell_type": "code",
      "source": [
        "def print_params(params):\n",
        "    jnp.set_printoptions(formatter={'float': lambda x: \"{0:0.3f}\".format(x)})\n",
        "    print(\"initial probs:\")\n",
        "    print(params.initial.probs)\n",
        "    print(\"transition matrix:\")\n",
        "    print(params.transitions.transition_matrix)\n",
        "    print(\"emission probs:\")\n",
        "    print(params.emissions.probs) "
      ],
      "metadata": {
        "id": "1SgdO-v_5lRn"
      },
      "id": "1SgdO-v_5lRn",
      "execution_count": 7,
      "outputs": []
    },
    {
      "cell_type": "code",
      "execution_count": 8,
      "id": "9acd8989",
      "metadata": {
        "id": "9acd8989"
      },
      "outputs": [],
      "source": [
        "# Concatenate into one big data array and train-test-split\n",
        "data = np.concatenate((Beethoven_lbl, Handel_lbl, Chopin_lbl), axis=1)\n",
        "\n",
        "X, Y = data[0, :], data[1, :]\n",
        "X_train, X_test, Y_train, Y_test = train_test_split(X,Y)"
      ]
    },
    {
      "cell_type": "code",
      "execution_count": null,
      "id": "01844f14",
      "metadata": {
        "colab": {
          "base_uri": "https://localhost:8080/",
          "height": 57
        },
        "id": "01844f14",
        "outputId": "2ccf06f6-d965-45b8-8699-bcd718e9ba8f"
      },
      "outputs": [
        {
          "output_type": "display_data",
          "data": {
            "text/plain": [
              "<IPython.core.display.HTML object>"
            ],
            "text/html": [
              "\n",
              "<style>\n",
              "    /* Turns off some styling */\n",
              "    progress {\n",
              "        /* gets rid of default border in Firefox and Opera. */\n",
              "        border: none;\n",
              "        /* Needs to be in here for Safari polyfill so background images work as expected. */\n",
              "        background-size: auto;\n",
              "    }\n",
              "    progress:not([value]), progress:not([value])::-webkit-progress-bar {\n",
              "        background: repeating-linear-gradient(45deg, #7e7e7e, #7e7e7e 10px, #5c5c5c 10px, #5c5c5c 20px);\n",
              "    }\n",
              "    .progress-bar-interrupted, .progress-bar-interrupted::-webkit-progress-bar {\n",
              "        background: #F44336;\n",
              "    }\n",
              "</style>\n"
            ]
          },
          "metadata": {}
        },
        {
          "output_type": "display_data",
          "data": {
            "text/plain": [
              "<IPython.core.display.HTML object>"
            ],
            "text/html": [
              "\n",
              "    <div>\n",
              "      <progress value='10' class='' max='10' style='width:300px; height:20px; vertical-align: middle;'></progress>\n",
              "      100.00% [10/10 01:37&lt;00:00]\n",
              "    </div>\n",
              "    "
            ]
          },
          "metadata": {}
        },
        {
          "output_type": "display_data",
          "data": {
            "text/plain": [
              "<IPython.core.display.HTML object>"
            ],
            "text/html": [
              "\n",
              "<style>\n",
              "    /* Turns off some styling */\n",
              "    progress {\n",
              "        /* gets rid of default border in Firefox and Opera. */\n",
              "        border: none;\n",
              "        /* Needs to be in here for Safari polyfill so background images work as expected. */\n",
              "        background-size: auto;\n",
              "    }\n",
              "    progress:not([value]), progress:not([value])::-webkit-progress-bar {\n",
              "        background: repeating-linear-gradient(45deg, #7e7e7e, #7e7e7e 10px, #5c5c5c 10px, #5c5c5c 20px);\n",
              "    }\n",
              "    .progress-bar-interrupted, .progress-bar-interrupted::-webkit-progress-bar {\n",
              "        background: #F44336;\n",
              "    }\n",
              "</style>\n"
            ]
          },
          "metadata": {}
        },
        {
          "output_type": "display_data",
          "data": {
            "text/plain": [
              "<IPython.core.display.HTML object>"
            ],
            "text/html": [
              "\n",
              "    <div>\n",
              "      <progress value='0' class='' max='10' style='width:300px; height:20px; vertical-align: middle;'></progress>\n",
              "      0.00% [0/10 00:00&lt;?]\n",
              "    </div>\n",
              "    "
            ]
          },
          "metadata": {}
        }
      ],
      "source": [
        "# GaussianHMM fitting\n",
        "params_list = []\n",
        "num_unique_notes = 96\n",
        "num_unique_durations = 2092\n",
        "num_states = 3\n",
        "num_emmisions = 2\n",
        "num_classes = num_unique_notes*num_unique_durations\n",
        "\n",
        "for i,p in enumerate(X_train):\n",
        "    if (np.isnan(p).any()) or (np.isinf(p).any()):\n",
        "        print(\"NaN or Inf\")\n",
        "        print(np.isnan(p).any())\n",
        "        print(np.isinf(p).any())\n",
        "        print(\" at i =\", i)\n",
        "        continue\n",
        "    hmm = CategoricalHMM(num_states,num_emmisions,num_classes)\n",
        "    params, props = hmm.initialize(method=\"prior\")\n",
        "    params, log_probs = hmm.fit_em(params,props,p,num_iters=10)\n",
        "    params_list.append(params)"
      ]
    },
    {
      "cell_type": "code",
      "execution_count": null,
      "id": "7fb9ef95",
      "metadata": {
        "id": "7fb9ef95"
      },
      "outputs": [],
      "source": [
        "t_matrix_list = []\n",
        "for params in params_list:\n",
        "    t_matrix_list.append(params.transitions.transition_matrix)"
      ]
    }
  ],
  "metadata": {
    "kernelspec": {
      "display_name": "Python 3 (ipykernel)",
      "language": "python",
      "name": "python3"
    },
    "language_info": {
      "codemirror_mode": {
        "name": "ipython",
        "version": 3
      },
      "file_extension": ".py",
      "mimetype": "text/x-python",
      "name": "python",
      "nbconvert_exporter": "python",
      "pygments_lexer": "ipython3",
      "version": "3.9.12"
    },
    "colab": {
      "provenance": []
    }
  },
  "nbformat": 4,
  "nbformat_minor": 5
}