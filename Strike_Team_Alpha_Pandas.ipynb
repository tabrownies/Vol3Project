{
 "cells": [
  {
   "cell_type": "code",
   "execution_count": 7,
   "id": "42560cc9",
   "metadata": {},
   "outputs": [],
   "source": [
    "import numpy as np\n",
    "from matplotlib import pyplot as plt\n",
    "import pandas as pd\n",
    "from glob import glob\n",
    "from itertools import chain"
   ]
  },
  {
   "cell_type": "code",
   "execution_count": 2,
   "id": "8e4f9cb5",
   "metadata": {},
   "outputs": [],
   "source": [
    "#You will probably need to change this line based on your file structure\n",
    "files = glob(\"./Documents/drive-download-20230303T110421Z-001/*.npy\")"
   ]
  },
  {
   "cell_type": "code",
   "execution_count": 63,
   "id": "c33e8ef2",
   "metadata": {},
   "outputs": [
    {
     "name": "stdout",
     "output_type": "stream",
     "text": [
      "Number of composers13\n",
      "1025\n",
      "2978\n",
      "18227615\n",
      "18227615\n",
      "18227615\n"
     ]
    }
   ],
   "source": [
    "files.sort()\n",
    "\n",
    "comp_list = [\"Bach\", \"Beethoven\", \"Busoni\", \"Chopin\", \"E\", \"Haendel\", \"J\", \"M\", \"Mozart\", \"Scarlatti\", \"Schubert\", \"Taube\", \"Vivaldi\"]\n",
    "\n",
    "data = []\n",
    "\n",
    "for file in files:\n",
    "    data.append(np.load(file, allow_pickle = True))\n",
    "\n",
    "outer_index = []\n",
    "middle_index = []\n",
    "inner_index = []\n",
    "\n",
    "print(\"Number of composers: \" + str(len(data)))\n",
    "\n",
    "total_songs = 0\n",
    "for i in data:\n",
    "    total_songs += len(i)\n",
    "    \n",
    "print(\"Number of songs:\" + str(total_songs))\n",
    "\n",
    "#print(data[0])\n",
    "for i in range(len(data)):\n",
    "    for j in range(len(data[i])):\n",
    "        outer_index += [comp_list[i]] *len(data[i][j])\n",
    "        temp = [j]*len(data[i][j])\n",
    "        middle_index += temp\n",
    "        inner_index += list(np.arange(len(data[i][j][:,0])))\n",
    "        \n",
    "outer_index = np.array(outer_index)\n",
    "middle_index = np.array(middle_index)\n",
    "inner_index = np.array(inner_index)\n",
    "print(len(outer_index)) \n",
    "print(len(middle_index))\n",
    "print(len(inner_index))"
   ]
  },
  {
   "cell_type": "code",
   "execution_count": 64,
   "id": "434a5d3f",
   "metadata": {},
   "outputs": [],
   "source": [
    "# creating a list of column names\n",
    "column_values = ['tick', 'time', 'note value', 'channel', 'velocity', 'duration']"
   ]
  },
  {
   "cell_type": "code",
   "execution_count": 65,
   "id": "77efb139",
   "metadata": {},
   "outputs": [],
   "source": [
    "data1 = list(chain(*data))\n",
    "data2 = list(chain(*data1))\n"
   ]
  },
  {
   "cell_type": "code",
   "execution_count": 66,
   "id": "3f0f5b03",
   "metadata": {},
   "outputs": [
    {
     "name": "stdout",
     "output_type": "stream",
     "text": [
      "                       tick   time  note value  channel  velocity  \\\n",
      "Bach    0   0           0.0    0.0        43.0      3.0     100.0   \n",
      "            1           0.0    0.0        50.0      3.0     100.0   \n",
      "            2           0.0    0.0        47.0      3.0     100.0   \n",
      "            3           0.0    0.0        55.0      2.0     100.0   \n",
      "            4         480.0  480.0        55.0      2.0       0.0   \n",
      "...                     ...    ...         ...      ...       ...   \n",
      "Vivaldi 108 22899  180384.0    0.0        45.0      5.0       0.0   \n",
      "            22900  180384.0  192.0        69.0      5.0       0.0   \n",
      "            22901  180384.0  384.0        61.0      2.0       0.0   \n",
      "            22902  180384.0  192.0        69.0      5.0       0.0   \n",
      "            22903  180384.0  192.0        69.0      5.0       0.0   \n",
      "\n",
      "                        duration  \n",
      "Bach    0   0       4.800000e+02  \n",
      "            1       4.800000e+02  \n",
      "            2       4.800000e+02  \n",
      "            3       4.800000e+02  \n",
      "            4      2.371515e-321  \n",
      "...                          ...  \n",
      "Vivaldi 108 22899  1.135116e-319  \n",
      "            22900  1.134671e-319  \n",
      "            22901  1.134622e-319  \n",
      "            22902  1.134819e-319  \n",
      "            22903  1.135165e-319  \n",
      "\n",
      "[18227615 rows x 6 columns]\n"
     ]
    }
   ],
   "source": [
    "# data = [j for i in data for j in i]\n",
    "# print(len(data))\n",
    "\n",
    "df = pd.DataFrame(data2, index=[outer_index,middle_index,inner_index], columns = column_values)\n",
    "\n",
    "print(df)"
   ]
  },
  {
   "cell_type": "code",
   "execution_count": 67,
   "id": "98341c4d",
   "metadata": {},
   "outputs": [
    {
     "name": "stdout",
     "output_type": "stream",
     "text": [
      "MultiIndex([(   'Bach',   0,     0),\n",
      "            (   'Bach',   0,     1),\n",
      "            (   'Bach',   0,     2),\n",
      "            (   'Bach',   0,     3),\n",
      "            (   'Bach',   0,     4),\n",
      "            (   'Bach',   0,     5),\n",
      "            (   'Bach',   0,     6),\n",
      "            (   'Bach',   0,     7),\n",
      "            (   'Bach',   0,     8),\n",
      "            (   'Bach',   0,     9),\n",
      "            ...\n",
      "            ('Vivaldi', 108, 22894),\n",
      "            ('Vivaldi', 108, 22895),\n",
      "            ('Vivaldi', 108, 22896),\n",
      "            ('Vivaldi', 108, 22897),\n",
      "            ('Vivaldi', 108, 22898),\n",
      "            ('Vivaldi', 108, 22899),\n",
      "            ('Vivaldi', 108, 22900),\n",
      "            ('Vivaldi', 108, 22901),\n",
      "            ('Vivaldi', 108, 22902),\n",
      "            ('Vivaldi', 108, 22903)],\n",
      "           length=18227615)\n"
     ]
    }
   ],
   "source": [
    "print(df.index)"
   ]
  },
  {
   "cell_type": "markdown",
   "id": "ae8a0d85",
   "metadata": {},
   "source": [
    "This is a three dimensional Pandas Dataframe. The outer dimension is the composer, the middle dimension is the song, and the inner dimension is the  You can access one song in our data set as shown below using the lock "
   ]
  },
  {
   "cell_type": "code",
   "execution_count": 70,
   "id": "c0045d3d",
   "metadata": {},
   "outputs": [
    {
     "name": "stdout",
     "output_type": "stream",
     "text": [
      "         tick    time  note value  channel  velocity       duration\n",
      "0      1440.0  1440.0        59.0      0.0      55.0   3.600000e+02\n",
      "1      1800.0     0.0        71.0      0.0      52.0   1.560000e+03\n",
      "2      1800.0   360.0        59.0      0.0       0.0  6.948876e-310\n",
      "3      1920.0     0.0        64.0      0.0      31.0   2.400000e+02\n",
      "4      1920.0     0.0        59.0      0.0      25.0   2.400000e+02\n",
      "...       ...     ...         ...      ...       ...            ...\n",
      "1203  49920.0     0.0        64.0      0.0       0.0   0.000000e+00\n",
      "1204  49920.0  1920.0        55.0      0.0       0.0   0.000000e+00\n",
      "1205  49920.0     0.0        59.0      0.0       0.0  4.940656e-324\n",
      "1206  49920.0     0.0        28.0      0.0       0.0   0.000000e+00\n",
      "1207  49920.0     0.0        52.0      0.0       0.0  4.940656e-324\n",
      "\n",
      "[1208 rows x 6 columns]\n"
     ]
    }
   ],
   "source": [
    "print(df.loc[\"Chopin\", 0])"
   ]
  },
  {
   "cell_type": "code",
   "execution_count": null,
   "id": "10b103e1",
   "metadata": {},
   "outputs": [],
   "source": []
  }
 ],
 "metadata": {
  "kernelspec": {
   "display_name": "Python 3 (ipykernel)",
   "language": "python",
   "name": "python3"
  },
  "language_info": {
   "codemirror_mode": {
    "name": "ipython",
    "version": 3
   },
   "file_extension": ".py",
   "mimetype": "text/x-python",
   "name": "python",
   "nbconvert_exporter": "python",
   "pygments_lexer": "ipython3",
   "version": "3.9.16"
  }
 },
 "nbformat": 4,
 "nbformat_minor": 5
}
