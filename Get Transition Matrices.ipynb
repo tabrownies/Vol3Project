{
 "cells": [
  {
   "cell_type": "code",
   "execution_count": 1,
   "id": "6b9de280",
   "metadata": {},
   "outputs": [],
   "source": [
    "from sklearn.model_selection import train_test_split\n",
    "import numpy as np"
   ]
  },
  {
   "cell_type": "code",
   "execution_count": null,
   "id": "f28b212e",
   "metadata": {},
   "outputs": [],
   "source": [
    "#Bach = np.load('/content/drive/MyDrive/Web Code/Cleaned Data/Bach.npy', allow_pickle = True)\n",
    "Beethoven = np.load('npData/Beethoven.npy', allow_pickle = True)\n",
    "Handel = np.load('npData/Haendel.npy', allow_pickle = True)\n",
    "Chopin = np.load('npData/Chopin.npy', allow_pickle = True)"
   ]
  },
  {
   "cell_type": "code",
   "execution_count": null,
   "id": "2782d95f",
   "metadata": {},
   "outputs": [],
   "source": [
    "# Label the data\n",
    "label_dict = {0:\"Bach\", 1:\"Beethoven\", 2:\"Handel\", 3:\"Chopin\"}\n",
    "\n",
    "#Bach_lbl = np.vstack((Bach,0*np.ones(len(Bach))))\n",
    "Beethoven_lbl = np.vstack((Beethoven,1*np.ones(len(Beethoven))))\n",
    "Handel_lbl = np.vstack((Handel,2*np.ones(len(Handel))))\n",
    "Chopin_lbl = np.vstack((Chopin,3*np.ones(len(Chopin))))\n"
   ]
  },
  {
   "cell_type": "code",
   "execution_count": null,
   "id": "9acd8989",
   "metadata": {},
   "outputs": [],
   "source": [
    "# Concatenate into one big data array and train-test-split\n",
    "data = np.concatenate((Beethoven_lbl, Handel_lbl, Chopin_lbl), axis=1)\n",
    "#data = Chopin_lbl\n",
    "\n",
    "X, Y = data[0, :], data[1, :]\n",
    "X_train, X_test, Y_train, Y_test = train_test_split(X,Y)"
   ]
  },
  {
   "cell_type": "code",
   "execution_count": null,
   "id": "01844f14",
   "metadata": {},
   "outputs": [],
   "source": [
    "# GaussianHMM fitting\n",
    "params_list = []\n",
    "\n",
    "for i,p in enumerate(X_train):\n",
    "    if (np.isnan(p).any()) or (np.isinf(p).any()):\n",
    "        print(\"NaN or Inf\")\n",
    "        print(np.isnan(p).any())\n",
    "        print(np.isinf(p).any())\n",
    "        print(\" at i =\", i)\n",
    "        continue\n",
    "    test_hmm = GaussianHMM(10, 6, transition_matrix_stickiness=10.)\n",
    "    params, props = test_hmm.initialize(method=\"kmeans\", emissions=p)\n",
    "    #params, lps = test_hmm.fit_em(params, props, p, num_iters=100)\n",
    "    params_list.append(params)"
   ]
  },
  {
   "cell_type": "code",
   "execution_count": null,
   "id": "7fb9ef95",
   "metadata": {},
   "outputs": [],
   "source": [
    "t_matrix_list = []\n",
    "for params in params_list:\n",
    "    t_matrix_list.append(params.transitions.transition_matrix)"
   ]
  }
 ],
 "metadata": {
  "kernelspec": {
   "display_name": "Python 3 (ipykernel)",
   "language": "python",
   "name": "python3"
  },
  "language_info": {
   "codemirror_mode": {
    "name": "ipython",
    "version": 3
   },
   "file_extension": ".py",
   "mimetype": "text/x-python",
   "name": "python",
   "nbconvert_exporter": "python",
   "pygments_lexer": "ipython3",
   "version": "3.9.12"
  }
 },
 "nbformat": 4,
 "nbformat_minor": 5
}
